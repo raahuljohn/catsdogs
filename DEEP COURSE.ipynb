{
 "cells": [
  {
   "cell_type": "code",
   "execution_count": 2,
   "metadata": {},
   "outputs": [],
   "source": [
    "import numpy as np\n",
    "import matplotlib.pyplot as plt\n",
    "import pandas as pd"
   ]
  },
  {
   "cell_type": "code",
   "execution_count": 3,
   "metadata": {},
   "outputs": [],
   "source": [
    "dataset = pd.read_csv(\"Churn_Modelling.csv\")\n",
    "X = dataset.iloc[:,3:13].values #independent variable\n",
    "y = dataset.iloc[:,13].values #dependent variable"
   ]
  },
  {
   "cell_type": "code",
   "execution_count": 18,
   "metadata": {},
   "outputs": [],
   "source": [
    "#Encoding Categorical data\n",
    "# Encoding the Independent Variable\n",
    "from sklearn.preprocessing import LabelEncoder, OneHotEncoder\n",
    "from sklearn.compose import ColumnTransformer\n",
    "labelencoder_X_1= LabelEncoder()\n",
    "X[:, 1] = labelencoder_X_1.fit_transform(X[:, 1]) #country\n",
    "\n",
    "labelencoder_X_2= LabelEncoder()\n",
    "X[:, 2] = labelencoder_X_2.fit_transform(X[:, 2]) #gender"
   ]
  },
  {
   "cell_type": "code",
   "execution_count": 19,
   "metadata": {},
   "outputs": [],
   "source": [
    "columnTransformer = ColumnTransformer([('encoder', OneHotEncoder(), [1])], remainder = 'passthrough')\n",
    "X = np.array(columnTransformer.fit_transform(X), dtype = np.float64)\n",
    "X = X[:, 1:]"
   ]
  },
  {
   "cell_type": "code",
   "execution_count": 24,
   "metadata": {
    "scrolled": true
   },
   "outputs": [],
   "source": [
    "#splitting the dataset\n",
    "from sklearn.model_selection import train_test_split\n",
    "X_train, X_test, y_train, y_test = train_test_split(X, y, test_size = 0.2, random_state = 0)"
   ]
  },
  {
   "cell_type": "code",
   "execution_count": 25,
   "metadata": {},
   "outputs": [],
   "source": [
    "#feature scaling\n",
    "from sklearn.preprocessing import StandardScaler\n",
    "sc=StandardScaler()\n",
    "X_train = sc.fit_transform(X_train)\n",
    "X_test = sc.transform(X_test)"
   ]
  },
  {
   "cell_type": "code",
   "execution_count": 28,
   "metadata": {},
   "outputs": [],
   "source": [
    "#making ANN"
   ]
  },
  {
   "cell_type": "code",
   "execution_count": 31,
   "metadata": {},
   "outputs": [],
   "source": [
    "import keras\n",
    "from keras.models import Sequential\n",
    "from keras.layers import Dense"
   ]
  },
  {
   "cell_type": "code",
   "execution_count": 33,
   "metadata": {},
   "outputs": [],
   "source": [
    "#initializing the ANN\n",
    "classifier = Sequential()"
   ]
  },
  {
   "cell_type": "code",
   "execution_count": 40,
   "metadata": {},
   "outputs": [],
   "source": [
    "#Adding the input layer and the first hidden layer\n",
    "classifier.add(Dense(6, activation='relu', input_dim=11))"
   ]
  },
  {
   "cell_type": "code",
   "execution_count": 41,
   "metadata": {},
   "outputs": [],
   "source": [
    "#adding the 2nd hidden layer\n",
    "classifier.add(Dense(6, activation='relu'))"
   ]
  },
  {
   "cell_type": "code",
   "execution_count": 42,
   "metadata": {},
   "outputs": [],
   "source": [
    "#adding the output layer\n",
    "classifier.add(Dense(1, activation='sigmoid')) #sigmoid is used for a single output.. softmax for multiple"
   ]
  },
  {
   "cell_type": "code",
   "execution_count": 43,
   "metadata": {},
   "outputs": [],
   "source": [
    "#compiling the ANN\n",
    "classifier.compile(optimizer='adam', loss='binary_crossentropy', metrics=['accuracy'])#binary for output being 1 outcome.. coategorial for multiple"
   ]
  },
  {
   "cell_type": "code",
   "execution_count": 45,
   "metadata": {},
   "outputs": [
    {
     "name": "stdout",
     "output_type": "stream",
     "text": [
      "Epoch 1/100\n",
      "800/800 [==============================] - 1s 428us/step - loss: 0.5330 - accuracy: 0.7947\n",
      "Epoch 2/100\n",
      "800/800 [==============================] - 0s 424us/step - loss: 0.4508 - accuracy: 0.7948\n",
      "Epoch 3/100\n",
      "800/800 [==============================] - 0s 418us/step - loss: 0.4183 - accuracy: 0.8015\n",
      "Epoch 4/100\n",
      "800/800 [==============================] - 0s 420us/step - loss: 0.4238 - accuracy: 0.8051\n",
      "Epoch 5/100\n",
      "800/800 [==============================] - 0s 417us/step - loss: 0.4297 - accuracy: 0.8098\n",
      "Epoch 6/100\n",
      "800/800 [==============================] - 0s 418us/step - loss: 0.4129 - accuracy: 0.8241\n",
      "Epoch 7/100\n",
      "800/800 [==============================] - 0s 426us/step - loss: 0.4089 - accuracy: 0.8315\n",
      "Epoch 8/100\n",
      "800/800 [==============================] - 0s 423us/step - loss: 0.4006 - accuracy: 0.8343\n",
      "Epoch 9/100\n",
      "800/800 [==============================] - 0s 419us/step - loss: 0.4055 - accuracy: 0.8330\n",
      "Epoch 10/100\n",
      "800/800 [==============================] - 0s 420us/step - loss: 0.3997 - accuracy: 0.8381\n",
      "Epoch 11/100\n",
      "800/800 [==============================] - 0s 421us/step - loss: 0.4050 - accuracy: 0.8315\n",
      "Epoch 12/100\n",
      "800/800 [==============================] - 0s 425us/step - loss: 0.3890 - accuracy: 0.8375\n",
      "Epoch 13/100\n",
      "800/800 [==============================] - 0s 422us/step - loss: 0.3800 - accuracy: 0.8451\n",
      "Epoch 14/100\n",
      "800/800 [==============================] - 0s 421us/step - loss: 0.3806 - accuracy: 0.8454\n",
      "Epoch 15/100\n",
      "800/800 [==============================] - 0s 416us/step - loss: 0.3625 - accuracy: 0.8490\n",
      "Epoch 16/100\n",
      "800/800 [==============================] - 0s 426us/step - loss: 0.3555 - accuracy: 0.8564\n",
      "Epoch 17/100\n",
      "800/800 [==============================] - 0s 426us/step - loss: 0.3538 - accuracy: 0.8610\n",
      "Epoch 18/100\n",
      "800/800 [==============================] - 0s 436us/step - loss: 0.3511 - accuracy: 0.8598\n",
      "Epoch 19/100\n",
      "800/800 [==============================] - 0s 492us/step - loss: 0.3528 - accuracy: 0.8603\n",
      "Epoch 20/100\n",
      "800/800 [==============================] - 0s 474us/step - loss: 0.3418 - accuracy: 0.8675\n",
      "Epoch 21/100\n",
      "800/800 [==============================] - 0s 426us/step - loss: 0.3389 - accuracy: 0.8584\n",
      "Epoch 22/100\n",
      "800/800 [==============================] - 0s 426us/step - loss: 0.3488 - accuracy: 0.8561\n",
      "Epoch 23/100\n",
      "800/800 [==============================] - 0s 420us/step - loss: 0.3316 - accuracy: 0.8657\n",
      "Epoch 24/100\n",
      "800/800 [==============================] - 0s 416us/step - loss: 0.3329 - accuracy: 0.8656\n",
      "Epoch 25/100\n",
      "800/800 [==============================] - 0s 436us/step - loss: 0.3420 - accuracy: 0.8599\n",
      "Epoch 26/100\n",
      "800/800 [==============================] - 0s 414us/step - loss: 0.3464 - accuracy: 0.8576\n",
      "Epoch 27/100\n",
      "800/800 [==============================] - 0s 414us/step - loss: 0.3367 - accuracy: 0.8637\n",
      "Epoch 28/100\n",
      "800/800 [==============================] - 0s 417us/step - loss: 0.3299 - accuracy: 0.8626\n",
      "Epoch 29/100\n",
      "800/800 [==============================] - 0s 415us/step - loss: 0.3394 - accuracy: 0.8619\n",
      "Epoch 30/100\n",
      "800/800 [==============================] - 0s 418us/step - loss: 0.3387 - accuracy: 0.8635\n",
      "Epoch 31/100\n",
      "800/800 [==============================] - 0s 428us/step - loss: 0.3294 - accuracy: 0.8628\n",
      "Epoch 32/100\n",
      "800/800 [==============================] - 0s 424us/step - loss: 0.3429 - accuracy: 0.8583\n",
      "Epoch 33/100\n",
      "800/800 [==============================] - 0s 418us/step - loss: 0.3366 - accuracy: 0.8644\n",
      "Epoch 34/100\n",
      "800/800 [==============================] - 0s 435us/step - loss: 0.3368 - accuracy: 0.8640\n",
      "Epoch 35/100\n",
      "800/800 [==============================] - 0s 456us/step - loss: 0.3304 - accuracy: 0.8684\n",
      "Epoch 36/100\n",
      "800/800 [==============================] - 0s 434us/step - loss: 0.3445 - accuracy: 0.8540\n",
      "Epoch 37/100\n",
      "800/800 [==============================] - 0s 431us/step - loss: 0.3357 - accuracy: 0.8639\n",
      "Epoch 38/100\n",
      "800/800 [==============================] - 0s 484us/step - loss: 0.3358 - accuracy: 0.8662\n",
      "Epoch 39/100\n",
      "800/800 [==============================] - 0s 462us/step - loss: 0.3363 - accuracy: 0.8657\n",
      "Epoch 40/100\n",
      "800/800 [==============================] - 0s 426us/step - loss: 0.3305 - accuracy: 0.8661\n",
      "Epoch 41/100\n",
      "800/800 [==============================] - 0s 432us/step - loss: 0.3393 - accuracy: 0.8636\n",
      "Epoch 42/100\n",
      "800/800 [==============================] - 0s 422us/step - loss: 0.3429 - accuracy: 0.8587\n",
      "Epoch 43/100\n",
      "800/800 [==============================] - 0s 426us/step - loss: 0.3452 - accuracy: 0.8563\n",
      "Epoch 44/100\n",
      "800/800 [==============================] - 0s 419us/step - loss: 0.3356 - accuracy: 0.8611\n",
      "Epoch 45/100\n",
      "800/800 [==============================] - 0s 418us/step - loss: 0.3304 - accuracy: 0.8681\n",
      "Epoch 46/100\n",
      "800/800 [==============================] - 0s 475us/step - loss: 0.3291 - accuracy: 0.8634\n",
      "Epoch 47/100\n",
      "800/800 [==============================] - 0s 429us/step - loss: 0.3370 - accuracy: 0.8622\n",
      "Epoch 48/100\n",
      "800/800 [==============================] - 0s 434us/step - loss: 0.3271 - accuracy: 0.8667\n",
      "Epoch 49/100\n",
      "800/800 [==============================] - 0s 418us/step - loss: 0.3202 - accuracy: 0.8714\n",
      "Epoch 50/100\n",
      "800/800 [==============================] - 0s 422us/step - loss: 0.3454 - accuracy: 0.8572\n",
      "Epoch 51/100\n",
      "800/800 [==============================] - 0s 433us/step - loss: 0.3508 - accuracy: 0.8578\n",
      "Epoch 52/100\n",
      "800/800 [==============================] - 0s 446us/step - loss: 0.3237 - accuracy: 0.8709\n",
      "Epoch 53/100\n",
      "800/800 [==============================] - 0s 413us/step - loss: 0.3422 - accuracy: 0.8585\n",
      "Epoch 54/100\n",
      "800/800 [==============================] - 0s 418us/step - loss: 0.3369 - accuracy: 0.8599\n",
      "Epoch 55/100\n",
      "800/800 [==============================] - 0s 423us/step - loss: 0.3356 - accuracy: 0.8642\n",
      "Epoch 56/100\n",
      "800/800 [==============================] - 0s 425us/step - loss: 0.3294 - accuracy: 0.8650\n",
      "Epoch 57/100\n",
      "800/800 [==============================] - 0s 422us/step - loss: 0.3294 - accuracy: 0.8670\n",
      "Epoch 58/100\n",
      "800/800 [==============================] - 0s 431us/step - loss: 0.3371 - accuracy: 0.8664\n",
      "Epoch 59/100\n",
      "800/800 [==============================] - 0s 427us/step - loss: 0.3389 - accuracy: 0.8641\n",
      "Epoch 60/100\n",
      "800/800 [==============================] - 0s 421us/step - loss: 0.3377 - accuracy: 0.8630\n",
      "Epoch 61/100\n",
      "800/800 [==============================] - 0s 431us/step - loss: 0.3340 - accuracy: 0.8631\n",
      "Epoch 62/100\n",
      "800/800 [==============================] - 0s 417us/step - loss: 0.3265 - accuracy: 0.8653\n",
      "Epoch 63/100\n",
      "800/800 [==============================] - 0s 421us/step - loss: 0.3375 - accuracy: 0.8640\n",
      "Epoch 64/100\n",
      "800/800 [==============================] - 0s 428us/step - loss: 0.3396 - accuracy: 0.8605\n",
      "Epoch 65/100\n",
      "800/800 [==============================] - 0s 419us/step - loss: 0.3277 - accuracy: 0.8667\n",
      "Epoch 66/100\n",
      "800/800 [==============================] - 0s 429us/step - loss: 0.3395 - accuracy: 0.8608\n",
      "Epoch 67/100\n",
      "800/800 [==============================] - 0s 419us/step - loss: 0.3388 - accuracy: 0.8624\n",
      "Epoch 68/100\n",
      "800/800 [==============================] - 0s 419us/step - loss: 0.3316 - accuracy: 0.8649\n",
      "Epoch 69/100\n",
      "800/800 [==============================] - 0s 419us/step - loss: 0.3430 - accuracy: 0.8595\n",
      "Epoch 70/100\n",
      "800/800 [==============================] - 0s 426us/step - loss: 0.3247 - accuracy: 0.8662\n",
      "Epoch 71/100\n",
      "800/800 [==============================] - 0s 421us/step - loss: 0.3279 - accuracy: 0.8687\n",
      "Epoch 72/100\n",
      "800/800 [==============================] - 0s 421us/step - loss: 0.3289 - accuracy: 0.8656\n",
      "Epoch 73/100\n",
      "800/800 [==============================] - 0s 423us/step - loss: 0.3257 - accuracy: 0.8712\n",
      "Epoch 74/100\n",
      "800/800 [==============================] - 0s 417us/step - loss: 0.3233 - accuracy: 0.8653\n",
      "Epoch 75/100\n",
      "800/800 [==============================] - 0s 421us/step - loss: 0.3173 - accuracy: 0.8737\n",
      "Epoch 76/100\n",
      "800/800 [==============================] - 0s 427us/step - loss: 0.3286 - accuracy: 0.8685\n",
      "Epoch 77/100\n",
      "800/800 [==============================] - 0s 421us/step - loss: 0.3367 - accuracy: 0.8638\n",
      "Epoch 78/100\n",
      "800/800 [==============================] - 0s 443us/step - loss: 0.3322 - accuracy: 0.8649\n",
      "Epoch 79/100\n"
     ]
    },
    {
     "name": "stdout",
     "output_type": "stream",
     "text": [
      "800/800 [==============================] - 0s 424us/step - loss: 0.3259 - accuracy: 0.8690\n",
      "Epoch 80/100\n",
      "800/800 [==============================] - 0s 417us/step - loss: 0.3320 - accuracy: 0.8650\n",
      "Epoch 81/100\n",
      "800/800 [==============================] - 0s 438us/step - loss: 0.3283 - accuracy: 0.8677\n",
      "Epoch 82/100\n",
      "800/800 [==============================] - 0s 438us/step - loss: 0.3226 - accuracy: 0.8662\n",
      "Epoch 83/100\n",
      "800/800 [==============================] - 0s 416us/step - loss: 0.3348 - accuracy: 0.8599\n",
      "Epoch 84/100\n",
      "800/800 [==============================] - 0s 422us/step - loss: 0.3255 - accuracy: 0.8693\n",
      "Epoch 85/100\n",
      "800/800 [==============================] - 0s 427us/step - loss: 0.3249 - accuracy: 0.8668\n",
      "Epoch 86/100\n",
      "800/800 [==============================] - 0s 427us/step - loss: 0.3393 - accuracy: 0.8611\n",
      "Epoch 87/100\n",
      "800/800 [==============================] - 0s 429us/step - loss: 0.3315 - accuracy: 0.8631\n",
      "Epoch 88/100\n",
      "800/800 [==============================] - 0s 419us/step - loss: 0.3310 - accuracy: 0.8634\n",
      "Epoch 89/100\n",
      "800/800 [==============================] - 0s 428us/step - loss: 0.3361 - accuracy: 0.8634\n",
      "Epoch 90/100\n",
      "800/800 [==============================] - 0s 423us/step - loss: 0.3339 - accuracy: 0.8671\n",
      "Epoch 91/100\n",
      "800/800 [==============================] - 0s 422us/step - loss: 0.3312 - accuracy: 0.8629\n",
      "Epoch 92/100\n",
      "800/800 [==============================] - 0s 424us/step - loss: 0.3241 - accuracy: 0.8659\n",
      "Epoch 93/100\n",
      "800/800 [==============================] - 0s 427us/step - loss: 0.3271 - accuracy: 0.8626\n",
      "Epoch 94/100\n",
      "800/800 [==============================] - 0s 427us/step - loss: 0.3279 - accuracy: 0.8679\n",
      "Epoch 95/100\n",
      "800/800 [==============================] - 0s 433us/step - loss: 0.3200 - accuracy: 0.8726\n",
      "Epoch 96/100\n",
      "800/800 [==============================] - 0s 430us/step - loss: 0.3312 - accuracy: 0.8668\n",
      "Epoch 97/100\n",
      "800/800 [==============================] - 0s 427us/step - loss: 0.3242 - accuracy: 0.8694\n",
      "Epoch 98/100\n",
      "800/800 [==============================] - 0s 421us/step - loss: 0.3282 - accuracy: 0.8652\n",
      "Epoch 99/100\n",
      "800/800 [==============================] - 0s 424us/step - loss: 0.3236 - accuracy: 0.8709\n",
      "Epoch 100/100\n",
      "800/800 [==============================] - 0s 426us/step - loss: 0.3262 - accuracy: 0.8654\n"
     ]
    },
    {
     "data": {
      "text/plain": [
       "<tensorflow.python.keras.callbacks.History at 0x1e6ff06f5b0>"
      ]
     },
     "execution_count": 45,
     "metadata": {},
     "output_type": "execute_result"
    }
   ],
   "source": [
    "#fitting the ANN into the training set\n",
    "classifier.fit(X_train, y_train, batch_size=10, epochs=100)"
   ]
  },
  {
   "cell_type": "code",
   "execution_count": 54,
   "metadata": {},
   "outputs": [],
   "source": [
    "#predicting the test set results\n",
    "y_pred = classifier.predict(X_test)\n",
    "y_pred = (y_pred > 0.5) #returns in T or F"
   ]
  },
  {
   "cell_type": "code",
   "execution_count": 58,
   "metadata": {},
   "outputs": [],
   "source": [
    "#making the confusion Matrix\n",
    "from sklearn.metrics import confusion_matrix\n",
    "cm = confusion_matrix(y_test, y_pred)"
   ]
  },
  {
   "cell_type": "code",
   "execution_count": 61,
   "metadata": {},
   "outputs": [
    {
     "data": {
      "text/plain": [
       "0.8625"
      ]
     },
     "execution_count": 61,
     "metadata": {},
     "output_type": "execute_result"
    }
   ],
   "source": [
    "(1550 + 175)/2000"
   ]
  },
  {
   "cell_type": "code",
   "execution_count": null,
   "metadata": {},
   "outputs": [],
   "source": []
  }
 ],
 "metadata": {
  "kernelspec": {
   "display_name": "Python 3",
   "language": "python",
   "name": "python3"
  },
  "language_info": {
   "codemirror_mode": {
    "name": "ipython",
    "version": 3
   },
   "file_extension": ".py",
   "mimetype": "text/x-python",
   "name": "python",
   "nbconvert_exporter": "python",
   "pygments_lexer": "ipython3",
   "version": "3.8.5"
  }
 },
 "nbformat": 4,
 "nbformat_minor": 4
}
