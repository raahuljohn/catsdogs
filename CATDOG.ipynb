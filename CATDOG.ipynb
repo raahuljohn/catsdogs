{
 "cells": [
  {
   "cell_type": "code",
   "execution_count": 1,
   "metadata": {},
   "outputs": [],
   "source": [
    "#Data preprocessing is done manually"
   ]
  },
  {
   "cell_type": "code",
   "execution_count": 168,
   "metadata": {},
   "outputs": [],
   "source": [
    "#Part 1 - Building the CNN\n",
    "from keras.models import Sequential\n",
    "from keras.layers import Convolution2D\n",
    "from keras.layers import MaxPooling2D\n",
    "from keras.layers import Flatten\n",
    "from keras.layers import Dense"
   ]
  },
  {
   "cell_type": "code",
   "execution_count": 169,
   "metadata": {},
   "outputs": [],
   "source": [
    "#initializing the CNN\n",
    "classifier = Sequential()"
   ]
  },
  {
   "cell_type": "code",
   "execution_count": 170,
   "metadata": {},
   "outputs": [],
   "source": [
    "#step 1 - Convolution\n",
    "#Input image (X) feature detectors  = feature maps\n",
    "classifier.add(Convolution2D(32,3,3, input_shape=(64,64,3),activation='relu'))#32 feature detectors of 3x3 dimensions\n"
   ]
  },
  {
   "cell_type": "code",
   "execution_count": 171,
   "metadata": {},
   "outputs": [],
   "source": [
    "#step 2 - pooling\n",
    "classifier.add(MaxPooling2D(pool_size = (2,2)))"
   ]
  },
  {
   "cell_type": "code",
   "execution_count": 147,
   "metadata": {},
   "outputs": [
    {
     "data": {
      "text/plain": [
       "\"\\n#adding a 2nd Convolution Layer || no need of input_shape par\\nclassifier.add(Convolution2D(64,3,3, activation='relu'))#32 feature detectors of 3x3 dimensions\\nclassifier.add(MaxPooling2D(pool_size = (2,2)))\""
      ]
     },
     "execution_count": 147,
     "metadata": {},
     "output_type": "execute_result"
    }
   ],
   "source": [
    "'''\n",
    "#adding a 2nd Convolution Layer || no need of input_shape par\n",
    "classifier.add(Convolution2D(64,3,3, activation='relu'))#32 feature detectors of 3x3 dimensions\n",
    "classifier.add(MaxPooling2D(pool_size = (2,2)))'''"
   ]
  },
  {
   "cell_type": "code",
   "execution_count": 172,
   "metadata": {},
   "outputs": [],
   "source": [
    "#step 3 - Flattening\n",
    "classifier.add(Flatten()) #to convert the arrays to a single vector"
   ]
  },
  {
   "cell_type": "code",
   "execution_count": 173,
   "metadata": {},
   "outputs": [],
   "source": [
    "#step 4 - Full Connection\n",
    "classifier.add(Dense(128, activation='relu'))\n",
    "\n",
    "classifier.add(Dense(1, activation='sigmoid'))"
   ]
  },
  {
   "cell_type": "code",
   "execution_count": 174,
   "metadata": {},
   "outputs": [],
   "source": [
    "#compiling the CNN\n",
    "classifier.compile(optimizer='adam',loss='binary_crossentropy', metrics=['accuracy'])"
   ]
  },
  {
   "cell_type": "code",
   "execution_count": 175,
   "metadata": {},
   "outputs": [],
   "source": [
    "#part 2 - Fitting the CNN into the images\n"
   ]
  },
  {
   "cell_type": "code",
   "execution_count": 176,
   "metadata": {},
   "outputs": [],
   "source": [
    "from keras.preprocessing.image import ImageDataGenerator\n"
   ]
  },
  {
   "cell_type": "code",
   "execution_count": 177,
   "metadata": {},
   "outputs": [],
   "source": [
    "train_datagen = ImageDataGenerator(\n",
    "        rescale=1./255,\n",
    "        shear_range=0.2,\n",
    "        zoom_range=0.2,\n",
    "        horizontal_flip=True)"
   ]
  },
  {
   "cell_type": "code",
   "execution_count": 178,
   "metadata": {},
   "outputs": [],
   "source": [
    "test_datagen = ImageDataGenerator(rescale=1./255)"
   ]
  },
  {
   "cell_type": "code",
   "execution_count": 179,
   "metadata": {},
   "outputs": [
    {
     "name": "stdout",
     "output_type": "stream",
     "text": [
      "Found 8000 images belonging to 2 classes.\n"
     ]
    }
   ],
   "source": [
    "training_set = train_datagen.flow_from_directory(\n",
    "        'dataset/training_set', #path of the dataset\n",
    "        target_size=(64, 64), #size of the images\n",
    "        batch_size=32,        #No. of images to go thru CNN bfr weight adijustment\n",
    "        class_mode='binary')\n"
   ]
  },
  {
   "cell_type": "code",
   "execution_count": null,
   "metadata": {},
   "outputs": [],
   "source": []
  },
  {
   "cell_type": "code",
   "execution_count": 180,
   "metadata": {},
   "outputs": [
    {
     "name": "stdout",
     "output_type": "stream",
     "text": [
      "Found 2000 images belonging to 2 classes.\n"
     ]
    }
   ],
   "source": [
    "test_set = test_datagen.flow_from_directory(\n",
    "        'dataset/test_set',\n",
    "        target_size=(64, 64),\n",
    "        batch_size=32,\n",
    "        class_mode='binary')\n"
   ]
  },
  {
   "cell_type": "code",
   "execution_count": 182,
   "metadata": {},
   "outputs": [
    {
     "name": "stdout",
     "output_type": "stream",
     "text": [
      "Epoch 1/25\n",
      "250/250 [==============================] - 26s 104ms/step - loss: 0.6891 - accuracy: 0.5613 - val_loss: 0.6175 - val_accuracy: 0.6735\n",
      "Epoch 2/25\n",
      "250/250 [==============================] - 26s 103ms/step - loss: 0.6193 - accuracy: 0.6528 - val_loss: 0.6420 - val_accuracy: 0.6290\n",
      "Epoch 3/25\n",
      "250/250 [==============================] - 25s 100ms/step - loss: 0.5771 - accuracy: 0.6961 - val_loss: 0.5935 - val_accuracy: 0.6905\n",
      "Epoch 4/25\n",
      "250/250 [==============================] - 25s 102ms/step - loss: 0.5668 - accuracy: 0.7119 - val_loss: 0.5821 - val_accuracy: 0.6970\n",
      "Epoch 5/25\n",
      "250/250 [==============================] - 26s 105ms/step - loss: 0.5514 - accuracy: 0.7205 - val_loss: 0.5684 - val_accuracy: 0.7085\n",
      "Epoch 6/25\n",
      "250/250 [==============================] - 26s 105ms/step - loss: 0.5285 - accuracy: 0.7283 - val_loss: 0.5552 - val_accuracy: 0.7145\n",
      "Epoch 7/25\n",
      "250/250 [==============================] - 27s 108ms/step - loss: 0.5221 - accuracy: 0.7376 - val_loss: 0.5322 - val_accuracy: 0.7405\n",
      "Epoch 8/25\n",
      "250/250 [==============================] - 25s 101ms/step - loss: 0.5295 - accuracy: 0.7283 - val_loss: 0.5893 - val_accuracy: 0.7030\n",
      "Epoch 9/25\n",
      "250/250 [==============================] - 26s 103ms/step - loss: 0.5236 - accuracy: 0.7345 - val_loss: 0.5297 - val_accuracy: 0.7400\n",
      "Epoch 10/25\n",
      "250/250 [==============================] - 26s 103ms/step - loss: 0.4803 - accuracy: 0.7698 - val_loss: 0.5225 - val_accuracy: 0.7395\n",
      "Epoch 11/25\n",
      "250/250 [==============================] - 26s 102ms/step - loss: 0.4962 - accuracy: 0.7629 - val_loss: 0.5651 - val_accuracy: 0.7270\n",
      "Epoch 12/25\n",
      "250/250 [==============================] - 27s 107ms/step - loss: 0.4761 - accuracy: 0.7723 - val_loss: 0.5229 - val_accuracy: 0.7460\n",
      "Epoch 13/25\n",
      "250/250 [==============================] - 26s 102ms/step - loss: 0.4655 - accuracy: 0.7739 - val_loss: 0.5531 - val_accuracy: 0.7395\n",
      "Epoch 14/25\n",
      "250/250 [==============================] - 25s 102ms/step - loss: 0.4708 - accuracy: 0.7798 - val_loss: 0.5423 - val_accuracy: 0.7395\n",
      "Epoch 15/25\n",
      "250/250 [==============================] - 25s 101ms/step - loss: 0.4634 - accuracy: 0.7753 - val_loss: 0.5215 - val_accuracy: 0.7590\n",
      "Epoch 16/25\n",
      "250/250 [==============================] - 26s 106ms/step - loss: 0.4565 - accuracy: 0.7778 - val_loss: 0.5102 - val_accuracy: 0.7690\n",
      "Epoch 17/25\n",
      "250/250 [==============================] - 26s 102ms/step - loss: 0.4562 - accuracy: 0.7810 - val_loss: 0.5087 - val_accuracy: 0.7535\n",
      "Epoch 18/25\n",
      "250/250 [==============================] - 27s 108ms/step - loss: 0.4402 - accuracy: 0.7932 - val_loss: 0.5312 - val_accuracy: 0.7480\n",
      "Epoch 19/25\n",
      "250/250 [==============================] - 25s 102ms/step - loss: 0.4378 - accuracy: 0.7942 - val_loss: 0.5146 - val_accuracy: 0.7610\n",
      "Epoch 20/25\n",
      "250/250 [==============================] - 26s 104ms/step - loss: 0.4347 - accuracy: 0.7921 - val_loss: 0.5300 - val_accuracy: 0.7575\n",
      "Epoch 21/25\n",
      "250/250 [==============================] - 25s 101ms/step - loss: 0.4168 - accuracy: 0.8089 - val_loss: 0.5378 - val_accuracy: 0.7435\n",
      "Epoch 22/25\n",
      "250/250 [==============================] - 27s 107ms/step - loss: 0.4212 - accuracy: 0.8103 - val_loss: 0.5163 - val_accuracy: 0.7755\n",
      "Epoch 23/25\n",
      "250/250 [==============================] - 25s 101ms/step - loss: 0.4209 - accuracy: 0.8121 - val_loss: 0.5124 - val_accuracy: 0.7695\n",
      "Epoch 24/25\n",
      "250/250 [==============================] - 25s 100ms/step - loss: 0.4149 - accuracy: 0.8082 - val_loss: 0.5240 - val_accuracy: 0.7535\n",
      "Epoch 25/25\n",
      "250/250 [==============================] - 25s 101ms/step - loss: 0.3991 - accuracy: 0.8200 - val_loss: 0.5174 - val_accuracy: 0.7640\n"
     ]
    },
    {
     "data": {
      "text/plain": [
       "<tensorflow.python.keras.callbacks.History at 0x1dab7cecf40>"
      ]
     },
     "execution_count": 182,
     "metadata": {},
     "output_type": "execute_result"
    }
   ],
   "source": [
    "#with only one convolution layer\n",
    "classifier.fit(\n",
    "        training_set,\n",
    "        epochs=25,\n",
    "      batch_size=32,\n",
    "        validation_data=test_set,\n",
    "       )"
   ]
  },
  {
   "cell_type": "code",
   "execution_count": 184,
   "metadata": {},
   "outputs": [
    {
     "data": {
      "image/png": "[encoded data removed]",
      "text/plain": [
       "<Figure size 432x288 with 1 Axes>"
      ]
     },
     "metadata": {
      "needs_background": "light"
     },
     "output_type": "display_data"
    },
    {
     "data": {
      "image/png": "[encoded data removed]",
      "text/plain": [
       "<Figure size 432x288 with 1 Axes>"
      ]
     },
     "metadata": {
      "needs_background": "light"
     },
     "output_type": "display_data"
    }
   ],
   "source": [
    "import matplotlib.pyplot as plt\n",
    "# summarize history for accuracy\n",
    "plt.plot(history.history['accuracy'])\n",
    "plt.plot(history.history['val_accuracy'])\n",
    "plt.title('model accuracy')\n",
    "plt.ylabel('accuracy')\n",
    "plt.xlabel('epoch')\n",
    "plt.legend(['train', 'test'], loc='upper left')\n",
    "plt.show()\n",
    "# summarize history for loss\n",
    "plt.plot(history.history['loss'])\n",
    "plt.plot(history.history['val_loss'])\n",
    "plt.title('model loss')\n",
    "plt.ylabel('loss')\n",
    "plt.xlabel('epoch')\n",
    "plt.legend(['train', 'test'], loc='upper left')\n",
    "plt.show()"
   ]
  },
  {
   "cell_type": "code",
   "execution_count": 191,
   "metadata": {},
   "outputs": [],
   "source": [
    "classifier.save('catdog_cnn_model.h5')"
   ]
  },
  {
   "cell_type": "code",
   "execution_count": 194,
   "metadata": {},
   "outputs": [
    {
     "name": "stdout",
     "output_type": "stream",
     "text": [
      "cat\n"
     ]
    }
   ],
   "source": [
    "import numpy as np\n",
    "from keras.preprocessing import image\n",
    "test_image =image.load_img('C:/Users/Raahul John/Documents/cat.jpg',target_size =(64,64))\n",
    "test_image =image.img_to_array(test_image)\n",
    "test_image =np.expand_dims(test_image, axis =0)\n",
    "result = classifier.predict(test_image)\n",
    "if result[0][0] >= 0.5:\n",
    "    prediction = 'dog'\n",
    "else:\n",
    "    prediction = 'cat'\n",
    "print(prediction)"
   ]
  },
  {
   "cell_type": "code",
   "execution_count": null,
   "metadata": {},
   "outputs": [],
   "source": []
  }
 ],
 "metadata": {
  "kernelspec": {
   "display_name": "Python 3",
   "language": "python",
   "name": "python3"
  },
  "language_info": {
   "codemirror_mode": {
    "name": "ipython",
    "version": 3
   },
   "file_extension": ".py",
   "mimetype": "text/x-python",
   "name": "python",
   "nbconvert_exporter": "python",
   "pygments_lexer": "ipython3",
   "version": "3.8.5"
  }
 },
 "nbformat": 4,
 "nbformat_minor": 4
}
